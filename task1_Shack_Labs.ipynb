{
  "nbformat": 4,
  "nbformat_minor": 0,
  "metadata": {
    "colab": {
      "provenance": []
    },
    "kernelspec": {
      "name": "python3",
      "display_name": "Python 3"
    },
    "language_info": {
      "name": "python"
    }
  },
  "cells": [
    {
      "cell_type": "markdown",
      "source": [
        "Name : Parth Kapadia"
      ],
      "metadata": {
        "id": "TVERDHfHdMqm"
      }
    },
    {
      "cell_type": "code",
      "execution_count": 108,
      "metadata": {
        "id": "efDuBbOSCYJh"
      },
      "outputs": [],
      "source": [
        "import numpy as np\n",
        "import pandas as pd\n",
        "import seaborn as sns\n",
        "import warnings\n",
        "warnings.filterwarnings(\"ignore\")"
      ]
    },
    {
      "cell_type": "code",
      "source": [
        "df = pd.read_excel(\"/content/DS - Assignment Part 1 data set.xlsx\")"
      ],
      "metadata": {
        "id": "UB5kmnuSCco7"
      },
      "execution_count": 109,
      "outputs": []
    },
    {
      "cell_type": "code",
      "source": [
        "df.head()"
      ],
      "metadata": {
        "colab": {
          "base_uri": "https://localhost:8080/",
          "height": 267
        },
        "id": "Ep-JVJVBE0rQ",
        "outputId": "bbcac4e4-c1d7-4f53-91bf-97b7a9875e22"
      },
      "execution_count": 110,
      "outputs": [
        {
          "output_type": "execute_result",
          "data": {
            "text/plain": [
              "   Transaction date  House Age  Distance from nearest Metro station (km)  \\\n",
              "0       2012.916667       32.0                                  84.87882   \n",
              "1       2012.916667       19.5                                 306.59470   \n",
              "2       2013.583333       13.3                                 561.98450   \n",
              "3       2013.500000       13.3                                 561.98450   \n",
              "4       2012.833333        5.0                                 390.56840   \n",
              "\n",
              "   Number of convenience stores  latitude  longitude  Number of bedrooms  \\\n",
              "0                            10  24.98298  121.54024                   1   \n",
              "1                             9  24.98034  121.53951                   2   \n",
              "2                             5  24.98746  121.54391                   3   \n",
              "3                             5  24.98746  121.54391                   2   \n",
              "4                             5  24.97937  121.54245                   1   \n",
              "\n",
              "   House size (sqft)  House price of unit area  \n",
              "0                575                      37.9  \n",
              "1               1240                      42.2  \n",
              "2               1060                      47.3  \n",
              "3                875                      54.8  \n",
              "4                491                      43.1  "
            ],
            "text/html": [
              "\n",
              "  <div id=\"df-66fe0b0c-5611-42b4-8ab2-492a90b73d28\">\n",
              "    <div class=\"colab-df-container\">\n",
              "      <div>\n",
              "<style scoped>\n",
              "    .dataframe tbody tr th:only-of-type {\n",
              "        vertical-align: middle;\n",
              "    }\n",
              "\n",
              "    .dataframe tbody tr th {\n",
              "        vertical-align: top;\n",
              "    }\n",
              "\n",
              "    .dataframe thead th {\n",
              "        text-align: right;\n",
              "    }\n",
              "</style>\n",
              "<table border=\"1\" class=\"dataframe\">\n",
              "  <thead>\n",
              "    <tr style=\"text-align: right;\">\n",
              "      <th></th>\n",
              "      <th>Transaction date</th>\n",
              "      <th>House Age</th>\n",
              "      <th>Distance from nearest Metro station (km)</th>\n",
              "      <th>Number of convenience stores</th>\n",
              "      <th>latitude</th>\n",
              "      <th>longitude</th>\n",
              "      <th>Number of bedrooms</th>\n",
              "      <th>House size (sqft)</th>\n",
              "      <th>House price of unit area</th>\n",
              "    </tr>\n",
              "  </thead>\n",
              "  <tbody>\n",
              "    <tr>\n",
              "      <th>0</th>\n",
              "      <td>2012.916667</td>\n",
              "      <td>32.0</td>\n",
              "      <td>84.87882</td>\n",
              "      <td>10</td>\n",
              "      <td>24.98298</td>\n",
              "      <td>121.54024</td>\n",
              "      <td>1</td>\n",
              "      <td>575</td>\n",
              "      <td>37.9</td>\n",
              "    </tr>\n",
              "    <tr>\n",
              "      <th>1</th>\n",
              "      <td>2012.916667</td>\n",
              "      <td>19.5</td>\n",
              "      <td>306.59470</td>\n",
              "      <td>9</td>\n",
              "      <td>24.98034</td>\n",
              "      <td>121.53951</td>\n",
              "      <td>2</td>\n",
              "      <td>1240</td>\n",
              "      <td>42.2</td>\n",
              "    </tr>\n",
              "    <tr>\n",
              "      <th>2</th>\n",
              "      <td>2013.583333</td>\n",
              "      <td>13.3</td>\n",
              "      <td>561.98450</td>\n",
              "      <td>5</td>\n",
              "      <td>24.98746</td>\n",
              "      <td>121.54391</td>\n",
              "      <td>3</td>\n",
              "      <td>1060</td>\n",
              "      <td>47.3</td>\n",
              "    </tr>\n",
              "    <tr>\n",
              "      <th>3</th>\n",
              "      <td>2013.500000</td>\n",
              "      <td>13.3</td>\n",
              "      <td>561.98450</td>\n",
              "      <td>5</td>\n",
              "      <td>24.98746</td>\n",
              "      <td>121.54391</td>\n",
              "      <td>2</td>\n",
              "      <td>875</td>\n",
              "      <td>54.8</td>\n",
              "    </tr>\n",
              "    <tr>\n",
              "      <th>4</th>\n",
              "      <td>2012.833333</td>\n",
              "      <td>5.0</td>\n",
              "      <td>390.56840</td>\n",
              "      <td>5</td>\n",
              "      <td>24.97937</td>\n",
              "      <td>121.54245</td>\n",
              "      <td>1</td>\n",
              "      <td>491</td>\n",
              "      <td>43.1</td>\n",
              "    </tr>\n",
              "  </tbody>\n",
              "</table>\n",
              "</div>\n",
              "      <button class=\"colab-df-convert\" onclick=\"convertToInteractive('df-66fe0b0c-5611-42b4-8ab2-492a90b73d28')\"\n",
              "              title=\"Convert this dataframe to an interactive table.\"\n",
              "              style=\"display:none;\">\n",
              "        \n",
              "  <svg xmlns=\"http://www.w3.org/2000/svg\" height=\"24px\"viewBox=\"0 0 24 24\"\n",
              "       width=\"24px\">\n",
              "    <path d=\"M0 0h24v24H0V0z\" fill=\"none\"/>\n",
              "    <path d=\"M18.56 5.44l.94 2.06.94-2.06 2.06-.94-2.06-.94-.94-2.06-.94 2.06-2.06.94zm-11 1L8.5 8.5l.94-2.06 2.06-.94-2.06-.94L8.5 2.5l-.94 2.06-2.06.94zm10 10l.94 2.06.94-2.06 2.06-.94-2.06-.94-.94-2.06-.94 2.06-2.06.94z\"/><path d=\"M17.41 7.96l-1.37-1.37c-.4-.4-.92-.59-1.43-.59-.52 0-1.04.2-1.43.59L10.3 9.45l-7.72 7.72c-.78.78-.78 2.05 0 2.83L4 21.41c.39.39.9.59 1.41.59.51 0 1.02-.2 1.41-.59l7.78-7.78 2.81-2.81c.8-.78.8-2.07 0-2.86zM5.41 20L4 18.59l7.72-7.72 1.47 1.35L5.41 20z\"/>\n",
              "  </svg>\n",
              "      </button>\n",
              "      \n",
              "  <style>\n",
              "    .colab-df-container {\n",
              "      display:flex;\n",
              "      flex-wrap:wrap;\n",
              "      gap: 12px;\n",
              "    }\n",
              "\n",
              "    .colab-df-convert {\n",
              "      background-color: #E8F0FE;\n",
              "      border: none;\n",
              "      border-radius: 50%;\n",
              "      cursor: pointer;\n",
              "      display: none;\n",
              "      fill: #1967D2;\n",
              "      height: 32px;\n",
              "      padding: 0 0 0 0;\n",
              "      width: 32px;\n",
              "    }\n",
              "\n",
              "    .colab-df-convert:hover {\n",
              "      background-color: #E2EBFA;\n",
              "      box-shadow: 0px 1px 2px rgba(60, 64, 67, 0.3), 0px 1px 3px 1px rgba(60, 64, 67, 0.15);\n",
              "      fill: #174EA6;\n",
              "    }\n",
              "\n",
              "    [theme=dark] .colab-df-convert {\n",
              "      background-color: #3B4455;\n",
              "      fill: #D2E3FC;\n",
              "    }\n",
              "\n",
              "    [theme=dark] .colab-df-convert:hover {\n",
              "      background-color: #434B5C;\n",
              "      box-shadow: 0px 1px 3px 1px rgba(0, 0, 0, 0.15);\n",
              "      filter: drop-shadow(0px 1px 2px rgba(0, 0, 0, 0.3));\n",
              "      fill: #FFFFFF;\n",
              "    }\n",
              "  </style>\n",
              "\n",
              "      <script>\n",
              "        const buttonEl =\n",
              "          document.querySelector('#df-66fe0b0c-5611-42b4-8ab2-492a90b73d28 button.colab-df-convert');\n",
              "        buttonEl.style.display =\n",
              "          google.colab.kernel.accessAllowed ? 'block' : 'none';\n",
              "\n",
              "        async function convertToInteractive(key) {\n",
              "          const element = document.querySelector('#df-66fe0b0c-5611-42b4-8ab2-492a90b73d28');\n",
              "          const dataTable =\n",
              "            await google.colab.kernel.invokeFunction('convertToInteractive',\n",
              "                                                     [key], {});\n",
              "          if (!dataTable) return;\n",
              "\n",
              "          const docLinkHtml = 'Like what you see? Visit the ' +\n",
              "            '<a target=\"_blank\" href=https://colab.research.google.com/notebooks/data_table.ipynb>data table notebook</a>'\n",
              "            + ' to learn more about interactive tables.';\n",
              "          element.innerHTML = '';\n",
              "          dataTable['output_type'] = 'display_data';\n",
              "          await google.colab.output.renderOutput(dataTable, element);\n",
              "          const docLink = document.createElement('div');\n",
              "          docLink.innerHTML = docLinkHtml;\n",
              "          element.appendChild(docLink);\n",
              "        }\n",
              "      </script>\n",
              "    </div>\n",
              "  </div>\n",
              "  "
            ]
          },
          "metadata": {},
          "execution_count": 110
        }
      ]
    },
    {
      "cell_type": "code",
      "source": [
        "print(len(df))\n",
        "from scipy import stats\n",
        "z = np.abs(stats.zscore(df))\n",
        "df = df[(z < 3).all(axis=1)]\n",
        "print(len(df))"
      ],
      "metadata": {
        "id": "WwiHd9ELJ-hf",
        "colab": {
          "base_uri": "https://localhost:8080/"
        },
        "outputId": "3cc82ba7-a497-47f9-8dc6-089f993ba342"
      },
      "execution_count": 111,
      "outputs": [
        {
          "output_type": "stream",
          "name": "stdout",
          "text": [
            "414\n",
            "407\n"
          ]
        }
      ]
    },
    {
      "cell_type": "code",
      "source": [
        "X = df.drop(['House price of unit area'], axis = 1)\n",
        "y = df['House price of unit area']"
      ],
      "metadata": {
        "id": "krn50spAKPf3"
      },
      "execution_count": 112,
      "outputs": []
    },
    {
      "cell_type": "code",
      "source": [
        "from sklearn.model_selection import train_test_split\n",
        "X_train, X_test, y_train, y_test = train_test_split(X, y,test_size=.05,random_state =123)\n"
      ],
      "metadata": {
        "id": "iv_uxKThTFmC"
      },
      "execution_count": 113,
      "outputs": []
    },
    {
      "cell_type": "code",
      "source": [
        "dataplot = sns.heatmap(X_train.corr(), cmap=\"YlGnBu\", annot=True)"
      ],
      "metadata": {
        "colab": {
          "base_uri": "https://localhost:8080/",
          "height": 466
        },
        "id": "SdurcSQdaMB1",
        "outputId": "811e0c58-b0bb-4519-cf96-69b889e1d7dc"
      },
      "execution_count": 114,
      "outputs": [
        {
          "output_type": "display_data",
          "data": {
            "text/plain": [
              "<Figure size 432x288 with 2 Axes>"
            ],
            "image/png": "[encoded data removed]"
          },
          "metadata": {
            "needs_background": "light"
          }
        }
      ]
    },
    {
      "cell_type": "markdown",
      "source": [
        "An evidently high correlation exists between the number of bedrooms and the size of the house in sq. ft.\n",
        "Hence dropping the bedroom column would help is lowering the multicollinearity aspect of the data."
      ],
      "metadata": {
        "id": "ZqwSDovcao3H"
      }
    },
    {
      "cell_type": "code",
      "source": [
        "X_train = X_train.drop(['Number of bedrooms'], axis = 1)\n",
        "X_test = X_test.drop(['Number of bedrooms'], axis = 1)\n",
        "X = X.drop(['Number of bedrooms'], axis = 1)"
      ],
      "metadata": {
        "id": "-0L1q150bAGr"
      },
      "execution_count": 115,
      "outputs": []
    },
    {
      "cell_type": "markdown",
      "source": [
        "# Fitting basic regression models "
      ],
      "metadata": {
        "id": "iRh0uvw2LxXu"
      }
    },
    {
      "cell_type": "markdown",
      "source": [
        "\n",
        "1. Linear Regression\n",
        "\n"
      ],
      "metadata": {
        "id": "JnmkqD5yR8Cu"
      }
    },
    {
      "cell_type": "markdown",
      "source": [
        "a. Ordinary Least Squares\n",
        "\n"
      ],
      "metadata": {
        "id": "UtE5UH5uX8WV"
      }
    },
    {
      "cell_type": "code",
      "source": [
        "from sklearn.linear_model import LinearRegression\n",
        "reg = LinearRegression()\n",
        "reg.fit(X_train, y_train)\n",
        "print(reg.score(X_train, y_train))\n",
        "print(reg.score(X_test, y_test))"
      ],
      "metadata": {
        "colab": {
          "base_uri": "https://localhost:8080/"
        },
        "id": "QKsSX_G8XHmu",
        "outputId": "378863ef-0ab0-4497-c6fb-593aaa9bfc59"
      },
      "execution_count": 116,
      "outputs": [
        {
          "output_type": "stream",
          "name": "stdout",
          "text": [
            "0.6136643015859947\n",
            "0.6524704328360402\n"
          ]
        }
      ]
    },
    {
      "cell_type": "markdown",
      "source": [
        "**It fails to fit complex data well, due to the assumption of a linear relationship throughout the data.**"
      ],
      "metadata": {
        "id": "cDq4cy-ybRGp"
      }
    },
    {
      "cell_type": "markdown",
      "source": [
        "b. Polynomial Regression"
      ],
      "metadata": {
        "id": "-so1mBF7ZXxE"
      }
    },
    {
      "cell_type": "code",
      "source": [
        "#fitting the polynomial regression model to the dataset\n",
        "from sklearn.preprocessing import PolynomialFeatures\n",
        "poly_reg=PolynomialFeatures(degree=2)\n",
        "X_poly=poly_reg.fit_transform(X_train)\n",
        "X_poly_test=poly_reg.fit_transform(X_test) \n",
        "poly_reg.fit(X_poly,y_train)\n",
        "lin_reg2=LinearRegression()\n",
        "lin_reg2.fit(X_poly,y_train)\n",
        "print(lin_reg2.score(X_poly, y_train))\n",
        "print(lin_reg2.score(X_poly_test, y_test))"
      ],
      "metadata": {
        "colab": {
          "base_uri": "https://localhost:8080/"
        },
        "id": "Gb0hPpuEYEln",
        "outputId": "ee664863-9033-43ab-96a3-05a007a3fd79"
      },
      "execution_count": 117,
      "outputs": [
        {
          "output_type": "stream",
          "name": "stdout",
          "text": [
            "0.7412766058891649\n",
            "0.7172719995893475\n"
          ]
        }
      ]
    },
    {
      "cell_type": "markdown",
      "source": [
        "The presence of one or two outliers in the data can seriously affect the results of the nonlinear analysis. These are too sensitive to the outliers."
      ],
      "metadata": {
        "id": "6khEGPezbhet"
      }
    },
    {
      "cell_type": "markdown",
      "source": [
        "2. Random Forest Regressor"
      ],
      "metadata": {
        "id": "ZMJheREsL-XD"
      }
    },
    {
      "cell_type": "code",
      "source": [
        "from sklearn.ensemble import RandomForestRegressor\n",
        "\n",
        "train_r2 = []\n",
        "test_r2 = []\n",
        "\n",
        "for i in range(1, 21):\n",
        "  md = RandomForestRegressor(max_features = 'sqrt', max_depth =  i, bootstrap = True, random_state=42)\n",
        "  md.fit(X_train, y_train)\n",
        "  train_r2.append(md.score(X_train, y_train))\n",
        "  test_r2.append(md.score(X_test, y_test))"
      ],
      "metadata": {
        "id": "Ipss_v8pQOAx"
      },
      "execution_count": 118,
      "outputs": []
    },
    {
      "cell_type": "code",
      "source": [
        "print(train_r2, test_r2)"
      ],
      "metadata": {
        "colab": {
          "base_uri": "https://localhost:8080/"
        },
        "id": "J_A_bPeQRdh8",
        "outputId": "fe426e92-c9ea-41ae-ca22-9cee959a919c"
      },
      "execution_count": 119,
      "outputs": [
        {
          "output_type": "stream",
          "name": "stdout",
          "text": [
            "[0.49429000141537904, 0.6489120457731601, 0.7300282058711619, 0.7841740141927758, 0.8251550781610416, 0.872197441851689, 0.9023913336808017, 0.9281893466233057, 0.9402931953033327, 0.9498248324007093, 0.9563237146956151, 0.960626511663852, 0.9609773750103185, 0.9617410646744695, 0.9626097821379678, 0.9629787176301018, 0.9628399682380853, 0.9630193638813999, 0.9627894772852369, 0.9630890751391084] [0.46342449801423613, 0.6395568360715153, 0.7321430967899054, 0.8108751812914717, 0.8374994273868073, 0.8832400111390342, 0.9038643897904349, 0.9105041893663722, 0.92716601782727, 0.9125022702211689, 0.9234176691728169, 0.9188274815774736, 0.9181998400782301, 0.9138018636544883, 0.9081617422143797, 0.9085526077618934, 0.9094220867063024, 0.9032115855530064, 0.9066409231396749, 0.9075821535993268]\n"
          ]
        }
      ]
    },
    {
      "cell_type": "code",
      "source": [
        "import matplotlib.pyplot as plt\n",
        "\n",
        "rng = [i for i in range(1, 21)]\n",
        "plt.plot(rng, train_r2, color='b')\n",
        "plt.plot(rng, test_r2, color='r')\n",
        "plt.yticks(np.arange(0, 1, 0.05),\n",
        "           np.arange(0, 1, 0.05))\n",
        "plt.grid(True)\n",
        "plt.show()"
      ],
      "metadata": {
        "colab": {
          "base_uri": "https://localhost:8080/",
          "height": 265
        },
        "id": "zeFlDcRJScsC",
        "outputId": "4ed5993d-c096-4f65-d2d7-980b11228e12"
      },
      "execution_count": 120,
      "outputs": [
        {
          "output_type": "display_data",
          "data": {
            "text/plain": [
              "<Figure size 432x288 with 1 Axes>"
            ],
            "image/png": "[encoded data removed]"
          },
          "metadata": {
            "needs_background": "light"
          }
        }
      ]
    },
    {
      "cell_type": "markdown",
      "source": [
        "**The issue with the random forest regressor is that it does not extrapolate.**\n",
        "\n",
        "That is, for predictions related to values changing over time, such as stock or house prices(as is our case), it will limit it's output to within an approximate range that it has observed within the training set.\n",
        "\n",
        "A possible solution is to feed input data as it is ingested for training, but the possibilty of making an error for unseen data values remains a possibility.\n",
        "\n"
      ],
      "metadata": {
        "id": "4xk529gGQlNc"
      }
    },
    {
      "cell_type": "markdown",
      "source": [
        "3. AdaBoost"
      ],
      "metadata": {
        "id": "wEEHhpQNOJcW"
      }
    },
    {
      "cell_type": "code",
      "source": [
        "from sklearn.ensemble import AdaBoostRegressor\n",
        "\n",
        "ada_regr = AdaBoostRegressor(n_estimators=200, learning_rate = 2, random_state=42)\n",
        "ada_regr.fit(X_train, y_train)\n",
        "print(ada_regr.score(X_train, y_train))\n",
        "print(ada_regr.score(X_test, y_test))"
      ],
      "metadata": {
        "id": "7nN1872zc0O9",
        "colab": {
          "base_uri": "https://localhost:8080/"
        },
        "outputId": "abeb828b-4321-4978-f17b-3657e2871bb0"
      },
      "execution_count": 121,
      "outputs": [
        {
          "output_type": "stream",
          "name": "stdout",
          "text": [
            "0.81127404313738\n",
            "0.8288770284490077\n"
          ]
        }
      ]
    },
    {
      "cell_type": "markdown",
      "source": [
        "**A limitation for the AdaBoost algorithm is that it needs clean data, it does not perform well on data that has outliers.**"
      ],
      "metadata": {
        "id": "9QQFObmbXL_o"
      }
    },
    {
      "cell_type": "markdown",
      "source": [
        "4. XGBoost"
      ],
      "metadata": {
        "id": "YFNMDYtNUFmx"
      }
    },
    {
      "cell_type": "code",
      "source": [
        "import xgboost\n",
        "xgb_model = xgboost.XGBRegressor(n_estimators=65, max_depth=4, eta=0.1, subsample=0.7, colsample_bytree=0.8)\n",
        "xgb_model.fit(X_train, y_train)\n",
        "print(xgb_model.score(X_train, y_train))\n",
        "print(xgb_model.score(X_test, y_test))"
      ],
      "metadata": {
        "colab": {
          "base_uri": "https://localhost:8080/"
        },
        "id": "Njj-BWADPgDu",
        "outputId": "8588dab3-444d-4074-daa1-5f62a0e966d2"
      },
      "execution_count": 122,
      "outputs": [
        {
          "output_type": "stream",
          "name": "stdout",
          "text": [
            "[14:32:33] WARNING: /workspace/src/objective/regression_obj.cu:152: reg:linear is now deprecated in favor of reg:squarederror.\n",
            "0.9349475688235644\n",
            "0.9241466003286701\n"
          ]
        }
      ]
    },
    {
      "cell_type": "markdown",
      "source": [
        "**The problem with XgBoost is the same as Random Forest, it doesn't extrapolate well.**\n",
        "\n",
        "Another issue is that it takes up a lot of time, as a trade off for the higher accuracy."
      ],
      "metadata": {
        "id": "4U3HUFisW0Tn"
      }
    },
    {
      "cell_type": "markdown",
      "source": [
        "5. LightGBM"
      ],
      "metadata": {
        "id": "qFJYvNizcI6w"
      }
    },
    {
      "cell_type": "code",
      "source": [
        "!pip install lightgbm"
      ],
      "metadata": {
        "colab": {
          "base_uri": "https://localhost:8080/"
        },
        "id": "QXA7tr0-cLda",
        "outputId": "b521591b-a227-41a3-ffba-16e966e93283"
      },
      "execution_count": 133,
      "outputs": [
        {
          "output_type": "stream",
          "name": "stdout",
          "text": [
            "Looking in indexes: https://pypi.org/simple, https://us-python.pkg.dev/colab-wheels/public/simple/\n",
            "Requirement already satisfied: lightgbm in /usr/local/lib/python3.8/dist-packages (2.2.3)\n",
            "Requirement already satisfied: numpy in /usr/local/lib/python3.8/dist-packages (from lightgbm) (1.21.6)\n",
            "Requirement already satisfied: scikit-learn in /usr/local/lib/python3.8/dist-packages (from lightgbm) (1.0.2)\n",
            "Requirement already satisfied: scipy in /usr/local/lib/python3.8/dist-packages (from lightgbm) (1.7.3)\n",
            "Requirement already satisfied: threadpoolctl>=2.0.0 in /usr/local/lib/python3.8/dist-packages (from scikit-learn->lightgbm) (3.1.0)\n",
            "Requirement already satisfied: joblib>=0.11 in /usr/local/lib/python3.8/dist-packages (from scikit-learn->lightgbm) (1.2.0)\n"
          ]
        }
      ]
    },
    {
      "cell_type": "code",
      "source": [
        "import lightgbm\n",
        "\n",
        "lgbm = lightgbm.LGBMRegressor()\n",
        "lgbm.fit(X_train, y_train)\n",
        "print(lgbm.score(X_train, y_train))\n",
        "print(lgbm.score(X_train, y_train))"
      ],
      "metadata": {
        "colab": {
          "base_uri": "https://localhost:8080/"
        },
        "id": "tLBRcqJXcUMH",
        "outputId": "02cefec9-bbab-49e1-fa63-5ad5749e6bab"
      },
      "execution_count": 136,
      "outputs": [
        {
          "output_type": "stream",
          "name": "stdout",
          "text": [
            "0.9377148839091933\n",
            "0.9377148839091933\n"
          ]
        }
      ]
    },
    {
      "cell_type": "markdown",
      "source": [
        "It tends to overfit small datasets, and is sensitive to outliers."
      ],
      "metadata": {
        "id": "XbuwsKWCdD5a"
      }
    },
    {
      "cell_type": "markdown",
      "source": [
        "# Final Model Selection"
      ],
      "metadata": {
        "id": "BYOQH8-7brRM"
      }
    },
    {
      "cell_type": "markdown",
      "source": [
        "**The best algorithm out of the above ones can be said to be LightGBM, due to it not overfitting, which is it's main weakness.**"
      ],
      "metadata": {
        "id": "5nxYLOGJbu6V"
      }
    }
  ]
}